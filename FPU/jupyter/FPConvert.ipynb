{
 "cells": [
  {
   "cell_type": "code",
   "execution_count": 1,
   "id": "a4b7f0b5",
   "metadata": {},
   "outputs": [
    {
     "data": {
      "text/plain": [
       "[1, 0, 0, 0, 1, 1, 0, 0, 0]"
      ]
     },
     "execution_count": 1,
     "metadata": {},
     "output_type": "execute_result"
    }
   ],
   "source": [
    "man = [1,0,0,0,1,1,0,0,0]\n",
    "man"
   ]
  },
  {
   "cell_type": "code",
   "execution_count": 547,
   "id": "05d07dc7",
   "metadata": {},
   "outputs": [
    {
     "name": "stdout",
     "output_type": "stream",
     "text": [
      "6.103515625e-05\n",
      "6.097555160522461e-05\n",
      "5.960464477539063e-08\n",
      "-0.0\n"
     ]
    }
   ],
   "source": [
    "### WIDTH = 10;\n",
    "\n",
    "FP16_MAN_LEN = 10\n",
    "FP16_EXP_LEN = 5\n",
    "FP16_EXP_BIAS = 2**(FP16_EXP_LEN-1)-1         # 15\n",
    "FP32_MAN_LEN = 23\n",
    "FP32_EXP_LEN = 8\n",
    "FP32_EXP_BIAS = 2**(FP32_EXP_LEN-1)-1         # 127\n",
    "FP64_MAN_LEN = 52\n",
    "FP64_EXP_LEN = 11\n",
    "FP64_EXP_BIAS = 2**(FP64_EXP_LEN-1)-1         # 1023\n",
    "\n",
    "\n",
    "FMT_FP16 = [1,FP16_MAN_LEN,FP16_EXP_BIAS,FP16_EXP_LEN]\n",
    "FMT_FP32 = [1,FP32_MAN_LEN,FP32_EXP_BIAS,FP32_EXP_LEN]\n",
    "\n",
    "# CAUTION: Python List and Binary indexes left-to-right\n",
    "# Call list reverse \"a.reverse()\"\" before indexing in verilog fashion\n",
    "\n",
    "# Useful Lambda Functions\n",
    "\n",
    "# Convert Binary String (without '0b') to Binary Array\n",
    "strdnum  = lambda s    : list(int(x) for x in s)\n",
    "# Convert Binary Array to Binary String (without '0b')\n",
    "numdstr  = lambda n    : \"\".join(str(x) for x in n)\n",
    "# Convert Binary Array to Integer\n",
    "bin2int  = lambda b    : int(numdstr(b),2)\n",
    "# Convert Integer to Binary Array\n",
    "int2bin  = lambda i, w : strdnum(bin(i)[2:].zfill(w))\n",
    "# Reverse Indexing\n",
    "indexrev = lambda a, i : a[len(a)-1-i]\n",
    "# Check If an Array Only Has One Variety of Element\n",
    "is_all   = lambda a, e : (a.count(e)==len(a))\n",
    "\n",
    "# Convert binary array to Python float value\n",
    "def fpdecode(fmt,pack):\n",
    "    exp_len      = fmt[3]\n",
    "    exp_bias     = fmt[2]\n",
    "    man_len      = fmt[1]\n",
    "    has_denorm   = fmt[0]==1\n",
    "    force_denorm = fmt[0]==3\n",
    "    \n",
    "    sgn = pack[0]\n",
    "    exp = pack[1:exp_len+1]\n",
    "    man = pack[exp_len+1:]\n",
    "    \n",
    "    if (is_all(exp,0) and has_denorm) or force_denorm:\n",
    "        # DENORM\n",
    "        t = float(bin2int(man))*2**(-man_len+1)\n",
    "        t = t*(2**(-exp_bias))\n",
    "    \n",
    "    # SPECIAL numbers are not dealt-with in this implementation\n",
    "    elif (is_all(exp,1)) :\n",
    "        print(\"ERROR: SPECIAL NUMBER\");\n",
    "        return float(\"nan\")\n",
    "    else:\n",
    "        # NORM\n",
    "        t = float(bin2int([1] + man))*2**(-man_len)\n",
    "        t = t*(2**(float(bin2int(exp))-exp_bias))\n",
    "        \n",
    "    if sgn == 1:\n",
    "            t = t*-1\n",
    "    return t\n",
    "\n",
    "# Conver float value to binary array\n",
    "import struct\n",
    "from math import log\n",
    "def double2binary(num):\n",
    "    return ''.join('{:0>8b}'.format(c) for c in struct.pack('!d', num))\n",
    "\n",
    "def half2binary(num):\n",
    "    return ''.join('{:0>8b}'.format(c) for c in struct.pack('!e', num))\n",
    "\n",
    "# Convert Python float (double) value to binary array in fmt\n",
    "# FP16 doesn't need this function:\n",
    "#    just call half2binary to get a binary string, \n",
    "#    and then convert it to a binary array with strdnum(s)\n",
    "def fpencode(fmt,num):\n",
    "    exp_len      = fmt[3]\n",
    "    exp_bias     = fmt[2]\n",
    "    man_len      = fmt[1]\n",
    "    has_denorm   = fmt[0]==1\n",
    "    force_denorm = fmt[0]==3\n",
    "    \n",
    "    a = double2binary(num);\n",
    "    sgn = a[0]\n",
    "    exp64 = a[1:FP64_EXP_LEN+1]\n",
    "    man64 = a[FP64_EXP_LEN+1:]\n",
    "    \n",
    "    # Convert Exponent\n",
    "    exp64i = bin2int(exp64)\n",
    "    exp = exp64i - FP64_EXP_BIAS + exp_bias\n",
    "    if is_all(exp64,'0'):\n",
    "        # Zeros\n",
    "        return [int(sgn)] + [0]*exp_len + [0]*man_len\n",
    "    if is_all(exp64,'1'):\n",
    "        # Infinity\n",
    "        return [int(sgn)] + [1]*exp_len + [0]*man_len\n",
    "    if abs(exp) >= 2**(exp_len)-1:\n",
    "        # Overflow, not implemented yet\n",
    "        print(\"ERROR: EXP OVERFLOW\");\n",
    "        return [int(sgn)] + [1]*exp_len + [0]*man_len\n",
    "    if(exp>0):\n",
    "        exp = int2bin(exp,FP64_EXP_LEN)[FP64_EXP_LEN - exp_len:] \n",
    "        # Convert Mantissa\n",
    "        man = strdnum(man64[0:man_len])\n",
    "    else:\n",
    "        # Denorm\n",
    "        man = ([0]*abs(exp)+[1]+strdnum(man64))[0:man_len]\n",
    "        exp = int2bin(0,exp_len)\n",
    "    return [int(sgn)] + exp + man;\n",
    "\n",
    "\n",
    "\n",
    "man = [0,0,0,0,0,0,0,0,0,0]\n",
    "exp = [0,0,0,0,1]\n",
    "pack = [0] + exp + man;\n",
    "a = fpdecode(FMT_FP16,pack)\n",
    "print(a)\n",
    "\n",
    "man = [1,1,1,1,1,1,1,1,1,1]\n",
    "exp = [0,0,0,0,0]\n",
    "pack = [0] + exp + man;\n",
    "a = fpdecode(FMT_FP16,pack)\n",
    "print(a)\n",
    "\n",
    "man = [0,0,0,0,0,0,0,0,0,1]\n",
    "exp = [0,0,0,0,0]\n",
    "pack = [0] + exp + man;\n",
    "a = fpdecode(FMT_FP16,pack)\n",
    "print(a)\n",
    "\n",
    "man = [0,0,0,0,0,0,0,0,0,0]\n",
    "exp = [0,0,0,0,0]\n",
    "pack = [1] + exp + man;\n",
    "a = fpdecode(FMT_FP16,pack)\n",
    "print(a)"
   ]
  },
  {
   "cell_type": "code",
   "execution_count": 507,
   "id": "328bbc66",
   "metadata": {},
   "outputs": [
    {
     "data": {
      "text/plain": [
       "[0, 0, 0, 0, 0, 0, 0, 0, 0, 0]"
      ]
     },
     "execution_count": 507,
     "metadata": {},
     "output_type": "execute_result"
    }
   ],
   "source": [
    "[0]*10"
   ]
  },
  {
   "cell_type": "code",
   "execution_count": 548,
   "id": "4c8a2d0f",
   "metadata": {},
   "outputs": [
    {
     "name": "stdout",
     "output_type": "stream",
     "text": [
      "- pass - Smallest Positive Subnormal\n",
      "Expected:\t 0000000000000001\n",
      "Result  :\t 0000000000000001\n",
      "- pass - Subnormal\n",
      "Expected:\t 0000001010101010\n",
      "Result  :\t 0000001010101010\n",
      "- pass - Largest Subnormal\n",
      "Expected:\t 0000001111111111\n",
      "Result  :\t 0000001111111111\n",
      "- pass - Smallest Positive Normal\n",
      "Expected:\t 0000010000000000\n",
      "Result  :\t 0000010000000000\n",
      "- pass - Nearest Value to 1/3\n",
      "Expected:\t 0011010101010101\n",
      "Result  :\t 0011010101010101\n",
      "- pass - Largest Number Less Than One\n",
      "Expected:\t 0011101111111111\n",
      "Result  :\t 0011101111111111\n",
      "- pass - One\n",
      "Expected:\t 0011110000000000\n",
      "Result  :\t 0011110000000000\n",
      "- pass - Smallest Number Larger Than One\n",
      "Expected:\t 0011110000000001\n",
      "Result  :\t 0011110000000001\n",
      "- pass - Largest Normal Number\n",
      "Expected:\t 0111101111111111\n",
      "Result  :\t 0111101111111111\n",
      "- pass - Nearest Value to 1/3\n",
      "Expected:\t 0011010101010101\n",
      "Result  :\t 0011010101010101\n",
      "ERROR: SPECIAL NUMBER\n",
      "- pass - Infinity\n",
      "Expected:\t 0111110000000000\n",
      "Result  :\t 0111110000000000\n",
      "- pass - Negative Zero\n",
      "Expected:\t 1000000000000000\n",
      "Result  :\t 1000000000000000\n",
      "- pass - Positive Zero\n",
      "Expected:\t 0000000000000000\n",
      "Result  :\t 0000000000000000\n",
      "- pass - -2\n",
      "Expected:\t 1100000000000000\n",
      "Result  :\t 1100000000000000\n",
      "ERROR: SPECIAL NUMBER\n",
      "- FAIL -  -Infinity\n",
      "Expected:\t 1111111111111111\n",
      "Result  :\t 0111110000000000\n"
     ]
    }
   ],
   "source": [
    "# FP16 Back-and-forth Conversion Test\n",
    "# https://en.wikipedia.org/wiki/Half-precision_floating-point_format\n",
    "\n",
    "def fp16verify(s, desc):\n",
    "    t = fpdecode(FMT_FP16,strdnum(s));\n",
    "    # print(t);\n",
    "    k = numdstr(fpencode(FMT_FP16,t));\n",
    "    if k==s:\n",
    "        print('- pass -', desc)\n",
    "    else:\n",
    "        print('- FAIL - ', desc)\n",
    "    print('Expected:\\t', s);\n",
    "    print('Result  :\\t', k);\n",
    "\n",
    "fp16verify('0000000000000001','Smallest Positive Subnormal')\n",
    "fp16verify('0000001010101010','Subnormal')\n",
    "fp16verify('0000001111111111','Largest Subnormal')\n",
    "fp16verify('0000010000000000','Smallest Positive Normal')\n",
    "fp16verify('0011010101010101','Nearest Value to 1/3')\n",
    "fp16verify('0011101111111111','Largest Number Less Than One')\n",
    "fp16verify('0011110000000000','One')\n",
    "fp16verify('0011110000000001','Smallest Number Larger Than One')\n",
    "fp16verify('0111101111111111','Largest Normal Number')\n",
    "fp16verify('0011010101010101','Nearest Value to 1/3')\n",
    "fp16verify('0111110000000000','Infinity')\n",
    "fp16verify('1000000000000000','Negative Zero')\n",
    "fp16verify('0000000000000000','Positive Zero')\n",
    "fp16verify('1100000000000000','-2')\n",
    "fp16verify('1111111111111111','-Infinity')"
   ]
  },
  {
   "cell_type": "code",
   "execution_count": 487,
   "id": "cac33029",
   "metadata": {
    "scrolled": true
   },
   "outputs": [
    {
     "data": {
      "text/plain": [
       "[0, 0, 0, 0, 1]"
      ]
     },
     "execution_count": 487,
     "metadata": {},
     "output_type": "execute_result"
    }
   ],
   "source": [
    "bin2int('0101010010101')\n",
    "import math\n",
    "def convexp(exp, exp_len, exp_bias):\n",
    "    exp = bin2int(exp) - FP64_EXP_BIAS + exp_bias\n",
    "    if (math.log(abs(exp))/math.log(2)) >= exp_len:\n",
    "        # Overflow, not implemented yet\n",
    "        print(\"ERROR: EXP OVERFLOW\");\n",
    "        return []\n",
    "    exp = int2bin(exp,FP64_EXP_LEN)[FP64_EXP_LEN - exp_len:]\n",
    "    return exp\n",
    "    \n",
    "convexp('01111110001',5,15)"
   ]
  }
 ],
 "metadata": {
  "kernelspec": {
   "display_name": "Python 3",
   "language": "python",
   "name": "python3"
  },
  "language_info": {
   "codemirror_mode": {
    "name": "ipython",
    "version": 3
   },
   "file_extension": ".py",
   "mimetype": "text/x-python",
   "name": "python",
   "nbconvert_exporter": "python",
   "pygments_lexer": "ipython3",
   "version": "3.8.8"
  }
 },
 "nbformat": 4,
 "nbformat_minor": 5
}
