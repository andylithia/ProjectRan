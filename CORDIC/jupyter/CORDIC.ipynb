{
 "cells": [
  {
   "cell_type": "code",
   "execution_count": 1,
   "id": "6f37a1ce",
   "metadata": {},
   "outputs": [],
   "source": [
    "from matplotlib import pyplot as plt\n",
    "import numpy as np\n",
    "import math\n"
   ]
  },
  {
   "cell_type": "code",
   "execution_count": 57,
   "id": "5b102973",
   "metadata": {},
   "outputs": [],
   "source": [
    "# General CORDIC Implementation (Polar, Linear, Hyper)\n",
    "N = 32     # How many iterations"
   ]
  },
  {
   "cell_type": "code",
   "execution_count": 58,
   "id": "86104963",
   "metadata": {},
   "outputs": [],
   "source": [
    "# Make ROMs\n",
    "ROM_polar = []\n",
    "ROM_linear = []\n",
    "ROM_hyper = []\n",
    "\n",
    "An_polar = 1\n",
    "for i in range(N):\n",
    "    An_polar = An_polar*math.sqrt(1+2**(-2*i))\n",
    "Kn_polar = 1/An_polar \n",
    "\n",
    "for i in range(N):\n",
    "    ROM_polar.append(math.degrees(math.atan(2**(-1*i)))) # No question, this should be degree mode\n",
    "    ROM_linear.append(2**(-1*i))\n",
    "    # Blows up when i = 0\n",
    "    if i!=0:\n",
    "        ROM_hyper.append(math.atanh(2**(-1*i)))\n",
    "    "
   ]
  },
  {
   "cell_type": "code",
   "execution_count": 67,
   "id": "720a5368",
   "metadata": {},
   "outputs": [
    {
     "name": "stdout",
     "output_type": "stream",
     "text": [
      "'b10110100000000000000000000000000\n",
      "'b01101010010000101001110011000110\n",
      "'b00111000001001010001110100000001\n",
      "'b00011100100000000000010001001001\n",
      "'b00001110010011100010101010011001\n",
      "'b00000111001010001101111001010011\n",
      "'b00000011100101001010100001101010\n",
      "'b00000001110010100101101101011110\n",
      "'b00000000111001010010111010010100\n",
      "'b00000000011100101001011101100110\n",
      "'b00000000001110010100101110110111\n",
      "'b00000000000111001010010111011011\n",
      "'b00000000000011100101001011101110\n",
      "'b00000000000001110010100101110111\n",
      "'b00000000000000111001010010111011\n",
      "'b00000000000000011100101001011101\n",
      "'b00000000000000001110010100101110\n",
      "'b00000000000000000111001010010111\n",
      "'b00000000000000000011100101001011\n",
      "'b00000000000000000001110010100101\n",
      "'b00000000000000000000111001010010\n",
      "'b00000000000000000000011100101001\n",
      "'b00000000000000000000001110010100\n",
      "'b00000000000000000000000111001010\n",
      "'b00000000000000000000000011100101\n",
      "'b00000000000000000000000001110010\n",
      "'b00000000000000000000000000111001\n",
      "'b00000000000000000000000000011100\n",
      "'b00000000000000000000000000001110\n",
      "'b00000000000000000000000000000111\n",
      "'b00000000000000000000000000000011\n",
      "'b00000000000000000000000000000001\n"
     ]
    }
   ],
   "source": [
    "# The binary CORDIC rotation table\n",
    "for line in ROM_polar:\n",
    "    binary = int(line*(2**(N-1)))>>5\n",
    "    print('\\'b{:032b}'.format(binary))"
   ]
  },
  {
   "cell_type": "code",
   "execution_count": 68,
   "id": "9f75831a",
   "metadata": {},
   "outputs": [
    {
     "name": "stdout",
     "output_type": "stream",
     "text": [
      "'b00000010011011011101001110110110\n"
     ]
    }
   ],
   "source": [
    "Kn_polar\n",
    "\n",
    "\n",
    "Kn_polar_binary = int(Kn_polar*(2**(N-1)))>>5\n",
    "print('\\'b{:032b}'.format(Kn_polar_binary))"
   ]
  },
  {
   "cell_type": "code",
   "execution_count": 85,
   "id": "ffa6b411",
   "metadata": {},
   "outputs": [
    {
     "name": "stdout",
     "output_type": "stream",
     "text": [
      "'b101101000000000000000000000000000\n"
     ]
    }
   ],
   "source": [
    "\n",
    "\n",
    "deg = int(90*(2**(N-1)))>>5\n",
    "print('\\'b{:032b}'.format(deg))"
   ]
  },
  {
   "cell_type": "code",
   "execution_count": 49,
   "id": "d8cc098d",
   "metadata": {},
   "outputs": [
    {
     "name": "stdout",
     "output_type": "stream",
     "text": [
      "Terminal: X= 0.33299860151020494 , Y= 0.15717155829380428  Z= 6.1035156250222045e-06\n"
     ]
    }
   ],
   "source": [
    "# Do polar first\n",
    "\n",
    "# Debug Only\n",
    "x_list = []\n",
    "y_list = []\n",
    "z_list = []\n",
    "i_list = []\n",
    "\n",
    "mode = 'linear'\n",
    "\n",
    "\n",
    "i  = 0\n",
    "di = 0\n",
    "x = 0.2\n",
    "y = 0.1\n",
    "z = 0.15\n",
    "for i in range(N):\n",
    "    # Decide direction\n",
    "    if z < 0:\n",
    "        di = -1\n",
    "    else:\n",
    "        di = +1\n",
    "    if mode == 'linear':\n",
    "        zn = z - di * ROM_linear[i]     # CORDIC ROM, the only difference between polar mode & linear mode\n",
    "    elif mode == 'polar':\n",
    "        zn = z - di * ROM_polar[i]      # CORDIC ROM, the only difference between polar mode & linear mode\n",
    "    xn = x - di * y * (2**(-1*i)) # Shifter\n",
    "    yn = y + di * x * (2**(-1*i)) # Shifter\n",
    "\n",
    "    x = xn\n",
    "    y = yn\n",
    "    z = zn\n",
    "    \n",
    "    z_list.append(z)\n",
    "    x_list.append(x)\n",
    "    y_list.append(y)\n",
    "    i_list.append(i)\n",
    "\n",
    "print('Terminal: X=',x,', Y=',y, ' Z=',z)\n",
    "\n"
   ]
  },
  {
   "cell_type": "code",
   "execution_count": 52,
   "id": "4b7467e9",
   "metadata": {},
   "outputs": [
    {
     "data": {
      "text/plain": [
       "[<matplotlib.lines.Line2D at 0x7f0255c99760>]"
      ]
     },
     "execution_count": 52,
     "metadata": {},
     "output_type": "execute_result"
    },
    {
     "data": {
      "image/png": "[encoded data removed]",
      "text/plain": [
       "<Figure size 432x288 with 1 Axes>"
      ]
     },
     "metadata": {
      "needs_background": "light"
     },
     "output_type": "display_data"
    }
   ],
   "source": [
    "plt.plot(i_list, z_list)"
   ]
  }
 ],
 "metadata": {
  "kernelspec": {
   "display_name": "Python 3 (ipykernel)",
   "language": "python",
   "name": "python3"
  },
  "language_info": {
   "codemirror_mode": {
    "name": "ipython",
    "version": 3
   },
   "file_extension": ".py",
   "mimetype": "text/x-python",
   "name": "python",
   "nbconvert_exporter": "python",
   "pygments_lexer": "ipython3",
   "version": "3.8.10"
  }
 },
 "nbformat": 4,
 "nbformat_minor": 5
}
